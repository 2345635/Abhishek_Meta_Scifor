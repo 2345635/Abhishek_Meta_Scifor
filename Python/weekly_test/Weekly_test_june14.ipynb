{
  "nbformat": 4,
  "nbformat_minor": 0,
  "metadata": {
    "colab": {
      "provenance": [],
      "authorship_tag": "ABX9TyNLYc79zyQw9njnfyrgmSl5",
      "include_colab_link": true
    },
    "kernelspec": {
      "name": "python3",
      "display_name": "Python 3"
    },
    "language_info": {
      "name": "python"
    }
  },
  "cells": [
    {
      "cell_type": "markdown",
      "metadata": {
        "id": "view-in-github",
        "colab_type": "text"
      },
      "source": [
        "<a href=\"https://colab.research.google.com/github/2345635/Abhishek_Meta_Scifor/blob/main/Python/weekly_test/Weekly_test_june14.ipynb\" target=\"_parent\"><img src=\"https://colab.research.google.com/assets/colab-badge.svg\" alt=\"Open In Colab\"/></a>"
      ]
    },
    {
      "cell_type": "markdown",
      "source": [
        "Encapsulation :\n",
        "\n",
        "It is one of the fundamental concepts in object-oriented programming (OOP).\n",
        "It refers to the bundling of data (variables) and methods (functions) that operate on the data into a single unit, typically a class.\n",
        "Encapsulation restricts direct access to some of an object's components, which can prevent the accidental modification of data.\n",
        "\n",
        "Basics of Encapsulation:\n",
        "\n",
        "In Python, encapsulation is achieved using:\n",
        "\n",
        "1. Public members\n",
        "2. Protected members\n",
        "3. Private members"
      ],
      "metadata": {
        "id": "S2PsBqtovZ1L"
      }
    },
    {
      "cell_type": "code",
      "source": [
        "class Car:\n",
        "    def __init__(self, make, model, year):\n",
        "        self.make = make  # Public\n",
        "        self.model = model  # Public\n",
        "        self.year = year  # Public\n",
        "        self.__current_speed = 0  # Private\n",
        "\n",
        "    # Below shows the Public method to accelerate the car\n",
        "    def accelerate(self, increment):\n",
        "        if increment > 0:\n",
        "            self.__current_speed += increment\n",
        "            print(f\"The car has accelerated by {increment} mph. Current speed is {self.__current_speed} mph.\")\n",
        "        else:\n",
        "            print(\"Invalid increment value.\")\n",
        "\n",
        "    # Below shows the Public method to brake the car\n",
        "    def brake(self, decrement):\n",
        "        if decrement > 0 and decrement <= self.__current_speed:\n",
        "            self.__current_speed -= decrement\n",
        "            print(f\"The car has decelerated by {decrement} mph. Current speed is {self.__current_speed} mph.\")\n",
        "        else:\n",
        "            print(\"Invalid or excessive decrement value.\")\n",
        "\n",
        "    # Below shows thePublic method to get the current speed\n",
        "    def get_current_speed(self):\n",
        "        return self.__current_speed"
      ],
      "metadata": {
        "id": "QAOh7oEPvdYG"
      },
      "execution_count": 9,
      "outputs": []
    },
    {
      "cell_type": "code",
      "source": [
        "# Example\n",
        "if __name__ == \"__main__\":\n",
        "    car = Car(\"Toyota\", \"Camry\", 2021)\n",
        "\n",
        "    # Accessing public members\n",
        "    print(f\"Make: {car.make}\")\n",
        "    print(f\"Model: {car.model}\")\n",
        "    print(f\"Year: {car.year}\")\n",
        "\n",
        "    car.accelerate(30)\n",
        "    car.brake(10)\n",
        "    print(f\"Current Speed: {car.get_current_speed()} mph\")"
      ],
      "metadata": {
        "colab": {
          "base_uri": "https://localhost:8080/"
        },
        "id": "2WNeH1kPwtIZ",
        "outputId": "3f61e9e9-c8bc-456f-b9cf-5db1c6ebd127"
      },
      "execution_count": 10,
      "outputs": [
        {
          "output_type": "stream",
          "name": "stdout",
          "text": [
            "Make: Toyota\n",
            "Model: Camry\n",
            "Year: 2021\n",
            "The car has accelerated by 30 mph. Current speed is 30 mph.\n",
            "The car has decelerated by 10 mph. Current speed is 20 mph.\n",
            "Current Speed: 20 mph\n"
          ]
        }
      ]
    },
    {
      "cell_type": "markdown",
      "source": [
        "When the Car object is instantiated and an attempt is made to directly access __current_speed using car.__current_speed, Python raises an AttributeError. This error occurs because __current_speed is intended to be private and inaccessible from outside the class, ensuring that the internal state of the car's speed is protected from unauthorized modification."
      ],
      "metadata": {
        "id": "-JTXORpGwbGo"
      }
    }
  ]
}