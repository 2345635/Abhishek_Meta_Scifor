{
  "nbformat": 4,
  "nbformat_minor": 0,
  "metadata": {
    "colab": {
      "provenance": [],
      "authorship_tag": "ABX9TyPak0Zod3lK3CkzTwBJ3/zi",
      "include_colab_link": true
    },
    "kernelspec": {
      "name": "python3",
      "display_name": "Python 3"
    },
    "language_info": {
      "name": "python"
    }
  },
  "cells": [
    {
      "cell_type": "markdown",
      "metadata": {
        "id": "view-in-github",
        "colab_type": "text"
      },
      "source": [
        "<a href=\"https://colab.research.google.com/github/2345635/Abhishek_Meta_Scifor/blob/main/Python/weekly_test/test_june21.ipynb\" target=\"_parent\"><img src=\"https://colab.research.google.com/assets/colab-badge.svg\" alt=\"Open In Colab\"/></a>"
      ]
    },
    {
      "cell_type": "markdown",
      "source": [
        "Write a code in python to show all levels of inheritance"
      ],
      "metadata": {
        "id": "SqL2P7QaSha3"
      }
    },
    {
      "cell_type": "code",
      "source": [
        "class Vehicle:\n",
        "    def __init__(self, make):\n",
        "        self.make = make\n",
        "\n",
        "class Car(Vehicle):\n",
        "    def __init__(self, make, model):\n",
        "        super().__init__(make)\n",
        "        self.model = model\n",
        "\n",
        "class SportsCar(Car):\n",
        "    def __init__(self, make, model, horsepower):\n",
        "        super().__init__(make, model)\n",
        "        self.horsepower = horsepower"
      ],
      "metadata": {
        "id": "Yt2WmuM5Shqv"
      },
      "execution_count": 2,
      "outputs": []
    },
    {
      "cell_type": "code",
      "source": [
        "car = SportsCar(\"BMW\", \"X1\", 575)\n",
        "\n",
        "print(car.make)\n",
        "print(car.model)\n",
        "print(car.horsepower)"
      ],
      "metadata": {
        "colab": {
          "base_uri": "https://localhost:8080/"
        },
        "id": "H2rpfNqxTn1b",
        "outputId": "f337d82b-9155-42c3-d887-192dca48d8e0"
      },
      "execution_count": 4,
      "outputs": [
        {
          "output_type": "stream",
          "name": "stdout",
          "text": [
            "BMW\n",
            "X1\n",
            "575\n"
          ]
        }
      ]
    },
    {
      "cell_type": "markdown",
      "source": [
        "Write a code of Method Overloading\n",
        "\n"
      ],
      "metadata": {
        "id": "LzbCP4nKUBsg"
      }
    },
    {
      "cell_type": "code",
      "source": [
        "class Shape:\n",
        "    def area(self, length, width=None):\n",
        "        if width is None:\n",
        "            return length * length\n",
        "        else:\n",
        "            return length * width"
      ],
      "metadata": {
        "id": "yVpY3TRGUCH1"
      },
      "execution_count": 5,
      "outputs": []
    },
    {
      "cell_type": "code",
      "source": [
        "shape = Shape()\n",
        "print(shape.area(6))\n",
        "print(shape.area(10, 12))\n"
      ],
      "metadata": {
        "colab": {
          "base_uri": "https://localhost:8080/"
        },
        "id": "e-AFVwnbUynv",
        "outputId": "45472544-812f-4442-c94b-e53f462b712a"
      },
      "execution_count": 7,
      "outputs": [
        {
          "output_type": "stream",
          "name": "stdout",
          "text": [
            "36\n",
            "120\n"
          ]
        }
      ]
    },
    {
      "cell_type": "markdown",
      "source": [
        "Write a code of Method Overriding"
      ],
      "metadata": {
        "id": "ZMuztMUGVA9A"
      }
    },
    {
      "cell_type": "code",
      "source": [
        "class Parent:\n",
        "    def show(self):\n",
        "        return \"Parent method\"\n",
        "\n",
        "class Child(Parent):\n",
        "    def show(self):\n",
        "        return \"Child method\""
      ],
      "metadata": {
        "id": "TSpiEemjVBL2"
      },
      "execution_count": 8,
      "outputs": []
    },
    {
      "cell_type": "code",
      "source": [
        "parent_instance = Parent()\n",
        "child_instance = Child()\n",
        "\n",
        "print(parent_instance.show())\n",
        "print(child_instance.show())"
      ],
      "metadata": {
        "colab": {
          "base_uri": "https://localhost:8080/"
        },
        "id": "NKqS4lr1VQYD",
        "outputId": "d7d79e1d-9a45-42b3-b563-cd9e37b9a257"
      },
      "execution_count": 9,
      "outputs": [
        {
          "output_type": "stream",
          "name": "stdout",
          "text": [
            "Parent method\n",
            "Child method\n"
          ]
        }
      ]
    }
  ]
}