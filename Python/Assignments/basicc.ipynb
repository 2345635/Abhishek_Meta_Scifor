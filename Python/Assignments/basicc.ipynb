{
  "nbformat": 4,
  "nbformat_minor": 0,
  "metadata": {
    "colab": {
      "provenance": [],
      "authorship_tag": "ABX9TyOgldFVgUIhcjEMIIQGLJBL",
      "include_colab_link": true
    },
    "kernelspec": {
      "name": "python3",
      "display_name": "Python 3"
    },
    "language_info": {
      "name": "python"
    }
  },
  "cells": [
    {
      "cell_type": "markdown",
      "metadata": {
        "id": "view-in-github",
        "colab_type": "text"
      },
      "source": [
        "<a href=\"https://colab.research.google.com/github/2345635/Abhishek_Scifor/blob/main/Python/Assignments/basicc.ipynb\" target=\"_parent\"><img src=\"https://colab.research.google.com/assets/colab-badge.svg\" alt=\"Open In Colab\"/></a>"
      ]
    },
    {
      "cell_type": "code",
      "execution_count": 1,
      "metadata": {
        "colab": {
          "base_uri": "https://localhost:8080/"
        },
        "id": "btmwpVjgkRPt",
        "outputId": "779ac06f-bb68-46e7-ab36-3ac179c88477"
      },
      "outputs": [
        {
          "output_type": "stream",
          "name": "stdout",
          "text": [
            "Hello World\n"
          ]
        }
      ],
      "source": [
        "print(\"Hello World\")"
      ]
    },
    {
      "cell_type": "code",
      "source": [
        "message = \"Hello World\"\n",
        "print(message)"
      ],
      "metadata": {
        "colab": {
          "base_uri": "https://localhost:8080/"
        },
        "id": "mfrFlWgjkdbI",
        "outputId": "5c91a417-3df9-4591-d600-7e2cf83f08cc"
      },
      "execution_count": 2,
      "outputs": [
        {
          "output_type": "stream",
          "name": "stdout",
          "text": [
            "Hello World\n"
          ]
        }
      ]
    },
    {
      "cell_type": "code",
      "source": [
        "#IF-ELSE\n",
        "i = 5\n",
        "if (i>18):\n",
        "  print(\"20 is less than 15\")\n",
        "else :\n",
        "  print(\"stop\")"
      ],
      "metadata": {
        "colab": {
          "base_uri": "https://localhost:8080/"
        },
        "id": "EINJ7YuMksq1",
        "outputId": "c14a91ea-6a58-4193-e006-2b40b2d04c69"
      },
      "execution_count": 3,
      "outputs": [
        {
          "output_type": "stream",
          "name": "stdout",
          "text": [
            "stop\n"
          ]
        }
      ]
    },
    {
      "cell_type": "code",
      "source": [
        "value = 30\n",
        "if value <10 :\n",
        "  print(\"value is less than 10\")\n",
        "\n",
        "if value>20:\n",
        "  print(\"value ias greater than 20\")"
      ],
      "metadata": {
        "colab": {
          "base_uri": "https://localhost:8080/"
        },
        "id": "jMtugV8Ekze5",
        "outputId": "b93fb870-2024-4552-9388-2f1c8bf74ddf"
      },
      "execution_count": 5,
      "outputs": [
        {
          "output_type": "stream",
          "name": "stdout",
          "text": [
            "value ias greater than 20\n"
          ]
        }
      ]
    },
    {
      "cell_type": "code",
      "source": [
        "def add(a,b,c):\n",
        "  return a+b+c\n",
        "result = add (5,3,2)\n",
        "print(result)"
      ],
      "metadata": {
        "colab": {
          "base_uri": "https://localhost:8080/"
        },
        "id": "Iiv0nvUolDwn",
        "outputId": "200b2e63-7e9f-4ba2-887f-228266cfd039"
      },
      "execution_count": 6,
      "outputs": [
        {
          "output_type": "stream",
          "name": "stdout",
          "text": [
            "10\n"
          ]
        }
      ]
    },
    {
      "cell_type": "code",
      "source": [
        "def number(a):\n",
        "  match a :\n",
        "    case 0 :\n",
        "      return \"zero\"\n",
        "    case 1:\n",
        "      return \"one\"\n",
        "    case 2:\n",
        "      return \"two\"\n",
        "    case default :\n",
        "      return \"defaultstatement\"\n",
        "head = number(5)\n",
        "print(head)\n"
      ],
      "metadata": {
        "colab": {
          "base_uri": "https://localhost:8080/"
        },
        "id": "wn2xlHRclP8h",
        "outputId": "de703470-a034-4915-9ed0-03cce65640fe"
      },
      "execution_count": 7,
      "outputs": [
        {
          "output_type": "stream",
          "name": "stdout",
          "text": [
            "defaultstatement\n"
          ]
        }
      ]
    },
    {
      "cell_type": "markdown",
      "source": [
        "Basics of python\n"
      ],
      "metadata": {
        "id": "C46_98rHkTQb"
      }
    },
    {
      "cell_type": "code",
      "source": [
        "#example- while loop\n",
        "i=1\n",
        "while i<=5:\n",
        "  print(i)\n",
        "  i+=1"
      ],
      "metadata": {
        "colab": {
          "base_uri": "https://localhost:8080/"
        },
        "id": "O3SzPDtGlbm9",
        "outputId": "8fc31877-f140-473d-f48e-ef1708af7a6a"
      },
      "execution_count": 8,
      "outputs": [
        {
          "output_type": "stream",
          "name": "stdout",
          "text": [
            "1\n",
            "2\n",
            "3\n",
            "4\n",
            "5\n"
          ]
        }
      ]
    },
    {
      "cell_type": "code",
      "source": [],
      "metadata": {
        "id": "a9GlyeJnlr3w"
      },
      "execution_count": null,
      "outputs": []
    }
  ]
}